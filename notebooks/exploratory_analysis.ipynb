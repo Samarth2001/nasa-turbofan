{
 "cells": [
  {
   "cell_type": "markdown",
   "metadata": {},
   "source": [
    "# NASA Turbofan Dataset - Exploratory Analysis\n",
    "\n",
    "This notebook explores the NASA Commercial Modular Aero-Propulsion System Simulation (C-MAPSS) dataset for predictive maintenance."
   ]
  },
  {
   "cell_type": "code",
   "execution_count": null,
   "metadata": {},
   "outputs": [],
   "source": [
    "import sys\n",
    "import os\n",
    "from pathlib import Path\n",
    "\n",
    "# Add the project root to the path\n",
    "project_root = Path().resolve().parent\n",
    "sys.path.append(str(project_root))\n",
    "\n",
    "import numpy as np\n",
    "import pandas as pd\n",
    "import matplotlib.pyplot as plt\n",
    "import seaborn as sns\n",
    "\n",
    "from src.data.data_loader import CMAPSSDataLoader\n",
    "from src.data.preprocessor import CMAPSSPreprocessor\n",
    "from src.config import SENSOR_COLUMNS, SETTING_COLUMNS, FEATURE_COLUMNS\n",
    "\n",
    "%matplotlib inline\n",
    "plt.style.use('ggplot')\n",
    "sns.set_theme(style=\"whitegrid\")"
   ]
  },
  {
   "cell_type": "markdown",
   "metadata": {},
   "source": [
    "## Load the Dataset"
   ]
  },
  {
   "cell_type": "code",
   "execution_count": null,
   "metadata": {},
   "outputs": [],
   "source": [
    "# Initialize the data loader\n",
    "data_loader = CMAPSSDataLoader()\n",
    "\n",
    "# Download and extract the dataset if needed\n",
    "data_loader.download_dataset()\n",
    "data_loader.extract_dataset()\n",
    "\n",
    "# Load the FD001 subset\n",
    "train_df, test_df, test_rul = data_loader.load_dataset(\"FD001\")"
   ]
  },
  {
   "cell_type": "markdown",
   "metadata": {},
   "source": [
    "## Basic Data Exploration"
   ]
  },
  {
   "cell_type": "code",
   "execution_count": null,
   "metadata": {},
   "outputs": [],
   "source": [
    "# Display basic information about the training data\n",
    "print(f\"Training data shape: {train_df.shape}\")\n",
    "print(f\"Test data shape: {test_df.shape}\")\n",
    "print(f\"RUL values shape: {test_rul.shape}\")\n",
    "\n",
    "# Show first few rows of training data\n",
    "train_df.head()"
   ]
  },
  {
   "cell_type": "code",
   "execution_count": null,
   "metadata": {},
   "outputs": [],
   "source": [
    "# Summary statistics\n",
    "train_df.describe()"
   ]
  },
  {
   "cell_type": "markdown",
   "metadata": {},
   "source": [
    "## Add RUL Values to Training Data"
   ]
  },
  {
   "cell_type": "code",
   "execution_count": null,
   "metadata": {},
   "outputs": [],
   "source": [
    "# Initialize the preprocessor\n",
    "preprocessor = CMAPSSPreprocessor()\n",
    "\n",
    "# Add RUL values to training data\n",
    "train_df_with_rul = preprocessor.add_rul(train_df)\n",
    "\n",
    "# Show the first few rows with RUL values\n",
    "train_df_with_rul.head()"
   ]
  },
  {
   "cell_type": "markdown",
   "metadata": {},
   "source": [
    "## Analyze Engine Cycles"
   ]
  },
  {
   "cell_type": "code",
   "execution_count": null,
   "metadata": {},
   "outputs": [],
   "source": [
    "# Count cycles per engine\n",
    "cycles_per_engine = train_df.groupby('unit_id').size()\n",
    "\n",
    "plt.figure(figsize=(12, 6))\n",
    "plt.bar(cycles_per_engine.index, cycles_per_engine.values)\n",
    "plt.title('Number of Cycles per Engine')\n",
    "plt.xlabel('Engine ID')\n",
    "plt.ylabel('Number of Cycles')\n",
    "plt.grid(True)\n",
    "plt.show()\n",
    "\n",
    "print(f\"Average cycles per engine: {cycles_per_engine.mean():.2f}\")\n",
    "print(f\"Min cycles: {cycles_per_engine.min()}\")\n",
    "print(f\"Max cycles: {cycles_per_engine.max()}\")"
   ]
  },
  {
   "cell_type": "markdown",
   "metadata": {},
   "source": [
    "## Analyze RUL Distribution"
   ]
  },
  {
   "cell_type": "code",
   "execution_count": null,
   "metadata": {},
   "outputs": [],
   "source": [
    "# Plot RUL distribution\n",
    "plt.figure(figsize=(12, 6))\n",
    "plt.hist(train_df_with_rul['RUL'], bins=50, alpha=0.7)\n",
    "plt.title('RUL Distribution in Training Data')\n",
    "plt.xlabel('Remaining Useful Life (cycles)')\n",
    "plt.ylabel('Frequency')\n",
    "plt.grid(True)\n",
    "plt.show()\n",
    "\n",
    "# Plot RUL distribution in test data\n",
    "plt.figure(figsize=(12, 6))\n",
    "plt.hist(test_rul, bins=20, alpha=0.7)\n",
    "plt.title('RUL Distribution in Test Data')\n",
    "plt.xlabel('Remaining Useful Life (cycles)')\n",
    "plt.ylabel('Frequency')\n",
    "plt.grid(True)\n",
    "plt.show()"
   ]
  },
  {
   "cell_type": "markdown",
   "metadata": {},
   "source": [
    "## Analyze Sensor Readings"
   ]
  },
  {
   "cell_type": "code",
   "execution_count": null,
   "metadata": {},
   "outputs": [],
   "source": [
    "# Select one engine for visualization\n",
    "engine_id = 1\n",
    "engine_data = train_df_with_rul[train_df_with_rul['unit_id'] == engine_id]\n",
    "\n",
    "# Plot sensor readings over time for one engine\n",
    "plt.figure(figsize=(15, 10))\n",
    "\n",
    "for i, sensor in enumerate(FEATURE_COLUMNS, 1):\n",
    "    if sensor in SENSOR_COLUMNS:\n",
    "        plt.subplot(4, 4, i)\n",
    "        plt.plot(engine_data['time'], engine_data[sensor])\n",
    "        plt.title(f'Sensor {sensor}')\n",
    "        plt.xlabel('Cycle')\n",
    "        plt.ylabel('Value')\n",
    "        plt.grid(True)\n",
    "\n",
    "plt.tight_layout()\n",
    "plt.show()"
   ]
  },
  {
   "cell_type": "markdown",
   "metadata": {},
   "source": [
    "## Feature Correlation Analysis"
   ]
  },
  {
   "cell_type": "code",
   "execution_count": null,
   "metadata": {},
   "outputs": [],
   "source": [
    "# Calculate correlation matrix\n",
    "correlation = train_df_with_rul[FEATURE_COLUMNS + ['RUL']].corr()\n",
    "\n",
    "# Plot correlation heatmap\n",
    "plt.figure(figsize=(12, 10))\n",
    "sns.heatmap(correlation, annot=True, cmap='coolwarm', fmt='.2f', linewidths=0.5)\n",
    "plt.title('Feature Correlation Matrix')\n",
    "plt.tight_layout()\n",
    "plt.show()\n",
    "\n",
    "# Show correlation with RUL\n",
    "rul_correlation = correlation['RUL'].sort_values(ascending=False)\n",
    "print(\"Feature correlation with RUL:\")\n",
    "print(rul_correlation)"
   ]
  },
  {
   "cell_type": "markdown",
   "metadata": {},
   "source": [
    "## Visualize Engine Degradation"
   ]
  },
  {
   "cell_type": "code",
   "execution_count": null,
   "metadata": {},
   "outputs": [],
   "source": [
    "# Select a few engines for visualization\n",
    "engine_ids = [1, 2, 3, 4]\n",
    "\n",
    "# Select a sensor that correlates well with RUL\n",
    "important_sensor = rul_correlation.index[1]  # Second highest correlation with RUL\n",
    "\n",
    "plt.figure(figsize=(12, 6))\n",
    "\n",
    "for engine_id in engine_ids:\n",
    "    engine_data = train_df_with_rul[train_df_with_rul['unit_id'] == engine_id]\n",
    "    plt.plot(engine_data['time'], engine_data[important_sensor], label=f'Engine {engine_id}')\n",
    "\n",
    "plt.title(f'Degradation Pattern - {important_sensor}')\n",
    "plt.xlabel('Cycle')\n",
    "plt.ylabel('Sensor Value')\n",
    "plt.legend()\n",
    "plt.grid(True)\n",
    "plt.show()"
   ]
  },
  {
   "cell_type": "markdown",
   "metadata": {},
   "source": [
    "## Visualize RUL Degradation"
   ]
  },
  {
   "cell_type": "code",
   "execution_count": null,
   "metadata": {},
   "outputs": [],
   "source": [
    "plt.figure(figsize=(12, 6))\n",
    "\n",
    "for engine_id in engine_ids:\n",
    "    engine_data = train_df_with_rul[train_df_with_rul['unit_id'] == engine_id]\n",
    "    plt.plot(engine_data['time'], engine_data['RUL'], label=f'Engine {engine_id}')\n",
    "\n",
    "plt.title('RUL Degradation Pattern')\n",
    "plt.xlabel('Cycle')\n",
    "plt.ylabel('Remaining Useful Life (cycles)')\n",
    "plt.legend()\n",
    "plt.grid(True)\n",
    "plt.show()"
   ]
  },
  {
   "cell_type": "markdown",
   "metadata": {},
   "source": [
    "## Identify Key Features"
   ]
  },
  {
   "cell_type": "code",
   "execution_count": null,
   "metadata": {},
   "outputs": [],
   "source": [
    "# Plot top correlated features vs RUL\n",
    "top_features = rul_correlation.head(6).index.tolist()\n",
    "top_features = [f for f in top_features if f != 'RUL']\n",
    "\n",
    "plt.figure(figsize=(15, 10))\n",
    "\n",
    "for i, feature in enumerate(top_features, 1):\n",
    "    plt.subplot(2, 3, i)\n",
    "    plt.scatter(train_df_with_rul[feature], train_df_with_rul['RUL'], alpha=0.1)\n",
    "    plt.title(f'{feature} vs RUL')\n",
    "    plt.xlabel(feature)\n",
    "    plt.ylabel('RUL')\n",
    "    plt.grid(True)\n",
    "\n",
    "plt.tight_layout()\n",
    "plt.show()"
   ]
  },
  {
   "cell_type": "markdown",
   "metadata": {},
   "source": [
    "## Conclusion\n",
    "\n",
    "In this exploratory analysis, we have:\n",
    "1. Loaded and examined the NASA turbofan dataset\n",
    "2. Analyzed engine cycles and RUL distribution\n",
    "3. Visualized sensor readings over time\n",
    "4. Identified correlations between features and RUL\n",
    "5. Observed degradation patterns in key features\n",
    "\n",
    "These insights will help in designing effective LSTM models for RUL prediction."
   ]
  }
 ],
 "metadata": {
  "kernelspec": {
   "display_name": "Python 3",
   "language": "python",
   "name": "python3"
  },
  "language_info": {
   "codemirror_mode": {
    "name": "ipython",
    "version": 3
   },
   "file_extension": ".py",
   "mimetype": "text/x-python",
   "name": "python",
   "nbconvert_exporter": "python",
   "pygments_lexer": "ipython3",
   "version": "3.9.7"
  }
 },
 "nbformat": 4,
 "nbformat_minor": 4
}
